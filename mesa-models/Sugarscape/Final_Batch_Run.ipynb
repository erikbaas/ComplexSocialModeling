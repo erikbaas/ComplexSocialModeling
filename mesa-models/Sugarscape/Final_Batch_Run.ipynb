{
 "cells": [
  {
   "cell_type": "code",
   "execution_count": 20,
   "metadata": {
    "collapsed": false
   },
   "outputs": [
    {
     "ename": "ImportError",
     "evalue": "No module named 'seaborn'",
     "output_type": "error",
     "traceback": [
      "\u001b[1;31m---------------------------------------------------------------------------\u001b[0m",
      "\u001b[1;31mImportError\u001b[0m                               Traceback (most recent call last)",
      "\u001b[1;32m<ipython-input-20-a20a5d61d414>\u001b[0m in \u001b[0;36m<module>\u001b[1;34m()\u001b[0m\n\u001b[0;32m      5\u001b[0m \u001b[1;32mimport\u001b[0m \u001b[0mpandas\u001b[0m \u001b[1;32mas\u001b[0m \u001b[0mpd\u001b[0m\u001b[1;33m\u001b[0m\u001b[0m\n\u001b[0;32m      6\u001b[0m \u001b[1;32mimport\u001b[0m \u001b[0mmatplotlib\u001b[0m\u001b[1;33m.\u001b[0m\u001b[0mpyplot\u001b[0m \u001b[1;32mas\u001b[0m \u001b[0mplt\u001b[0m\u001b[1;33m\u001b[0m\u001b[0m\n\u001b[1;32m----> 7\u001b[1;33m \u001b[1;32mimport\u001b[0m \u001b[0mseaborn\u001b[0m \u001b[1;32mas\u001b[0m \u001b[0msns\u001b[0m\u001b[1;33m\u001b[0m\u001b[0m\n\u001b[0m\u001b[0;32m      8\u001b[0m \u001b[1;32mfrom\u001b[0m \u001b[0mModel\u001b[0m \u001b[1;32mimport\u001b[0m \u001b[0mSugarscapeModel\u001b[0m\u001b[1;33m\u001b[0m\u001b[0m\n\u001b[0;32m      9\u001b[0m \u001b[1;32mfrom\u001b[0m \u001b[0mmesa\u001b[0m\u001b[1;33m.\u001b[0m\u001b[0mbatchrunner\u001b[0m \u001b[1;32mimport\u001b[0m \u001b[0mBatchRunner\u001b[0m\u001b[1;33m\u001b[0m\u001b[0m\n",
      "\u001b[1;31mImportError\u001b[0m: No module named 'seaborn'"
     ]
    }
   ],
   "source": [
    "%matplotlib inline\n",
    "from __future__ import division\n",
    "\n",
    "import numpy as np\n",
    "import pandas as pd\n",
    "import matplotlib.pyplot as plt\n",
    "import seaborn as sns\n",
    "from Model import SugarscapeModel\n",
    "from mesa.batchrunner import BatchRunner\n",
    "\n",
    "sugarscape = SugarscapeModel()"
   ]
  },
  {
   "cell_type": "code",
   "execution_count": 23,
   "metadata": {
    "collapsed": false
   },
   "outputs": [
    {
     "data": {
      "text/plain": [
       "<matplotlib.collections.PathCollection at 0x7f2fb94ce5f8>"
      ]
     },
     "execution_count": 23,
     "metadata": {},
     "output_type": "execute_result"
    },
    {
     "data": {
      "image/png": "[encoded data removed]",
      "text/plain": [
       "<matplotlib.figure.Figure at 0x7f2fbbad0828>"
      ]
     },
     "metadata": {},
     "output_type": "display_data"
    }
   ],
   "source": [
    "def get_avg_pollution(model):\n",
    "    '''Data collecting method to return total wealth of a model'''\n",
    "    dc = model.datacollector\n",
    "    m_data = dc.get_model_vars_dataframe()\n",
    "    m_data = m_data.dropna()\n",
    "    return m_data.describe().Wealth.iloc[1]\n",
    "\n",
    "model_reporters = {\"Wealth\": get_avg_pollution}"
   ]
  },
  {
   "cell_type": "markdown",
   "metadata": {},
   "source": [
    "### Create all parameter sets"
   ]
  },
  {
   "cell_type": "code",
   "execution_count": 18,
   "metadata": {
    "collapsed": false
   },
   "outputs": [],
   "source": [
    "#This model has growth-affecting pollution and no inheritance\n",
    "params_growth = {\"height\": 50, \n",
    "          \"width\": 50, \n",
    "          \"init_agents\": np.linspace(100,500,5), \n",
    "          \"max_metabolism\": 3, \n",
    "          \"max_vision\": 10,\n",
    "          \"max_init_sugar\": 5, \n",
    "          \"min_age\": 30, \n",
    "          \"max_age\": 60, \n",
    "          \"init_poll\": np.linspace(1,10, 10),\n",
    "          \"ex_ratio\": np.linspace(1,100, 20)}\n",
    "\n",
    "#This model has amenity-affecting pollution and no inheritance\n",
    "params_amenity = {\"height\": 50, \n",
    "          \"width\": 50, \n",
    "          \"init_agents\": np.linspace(100,500,5),\n",
    "          \"max_metabolism\": 3, \n",
    "          \"max_vision\": 10,\n",
    "          \"max_init_sugar\": 5, \n",
    "          \"min_age\": 30, \n",
    "          \"max_age\": 60, \n",
    "          \"init_poll\": np.linspace(1,10, 10),\n",
    "          \"ex_ratio\": np.linspace(1,100, 20)}\n",
    "\n",
    "#This model has growth_affecting pollution and inheritance\n",
    "params_inh_growth = {\"height\": 50, \n",
    "          \"width\": 50, \n",
    "          \"init_agents\": np.linspace(100,500,5), \n",
    "          \"max_metabolism\": 3, \n",
    "          \"max_vision\": 10,\n",
    "          \"max_init_sugar\": 5, \n",
    "          \"min_age\": 30, \n",
    "          \"max_age\": 60, \n",
    "          \"init_poll\": np.linspace(1,10, 10),\n",
    "          \"ex_ratio\": np.linspace(1,100, 20)}\n",
    "\n",
    "\n",
    "#This model has amenity_affecting pollution and inheritance\n",
    "params_inh_amenity = {\"height\": 50, \n",
    "          \"width\": 50, \n",
    "          \"init_agents\": np.linspace(100,500,5), \n",
    "          \"max_metabolism\": 3, \n",
    "          \"max_vision\": 10,\n",
    "          \"max_init_sugar\": 5, \n",
    "          \"min_age\": 30, \n",
    "          \"max_age\": 60, \n",
    "          \"init_poll\": np.linspace(1,10, 10),\n",
    "          \"ex_ratio\": np.linspace(1,100, 20)}"
   ]
  },
  {
   "cell_type": "markdown",
   "metadata": {},
   "source": [
    "### Create Batch Runs With Specific Rule Sets"
   ]
  },
  {
   "cell_type": "code",
   "execution_count": 19,
   "metadata": {
    "collapsed": false
   },
   "outputs": [],
   "source": [
    "sugarscape.poll_growth_rule = True\n",
    "sugarscape.inheritance_rule = False\n",
    "sweep_growth = BatchRunner(sugarscape, \n",
    "                          params_growth, \n",
    "                          iterations=10, \n",
    "                          max_steps=300, \n",
    "                          model_reporters=model_reporters)\n",
    "\n",
    "sugarscape.poll_growth_rule = False\n",
    "sugarscape.inheritance_rule = False\n",
    "sweep_amenity = BatchRunner(SugarscapeModel,\n",
    "                            params_amenity,\n",
    "                            iterations=10,\n",
    "                            max_steps=300,\n",
    "                            model_reporters=model_reporters)\n",
    "\n",
    "sugarscape.poll_growth_rule = True\n",
    "sugarscape.inheritance_rule = True\n",
    "sweep_inh_growth = BatchRunner(SugarscapeModel, \n",
    "                          params_inh_growth, \n",
    "                          iterations=10, \n",
    "                          max_steps=300, \n",
    "                          model_reporters=model_reporters)\n",
    "\n",
    "sugarscape.poll_growth_rule = False\n",
    "sugarscape.inheritance_rule = True\n",
    "sweep_inh_amenity = BatchRunner(SugarscapeModel, \n",
    "                          params_inh_amenity, \n",
    "                          iterations=10, \n",
    "                          max_steps=300, \n",
    "                          model_reporters=model_reporters)"
   ]
  },
  {
   "cell_type": "markdown",
   "metadata": {},
   "source": [
    "### Sweep and store all data"
   ]
  },
  {
   "cell_type": "code",
   "execution_count": 22,
   "metadata": {
    "collapsed": false
   },
   "outputs": [],
   "source": [
    "sweep_growth.run_all()\n",
    "data_growth = sweep_growth.get_model_vars_dataframe()\n",
    "data_growth.to_csv('Data/growth.csv')\n",
    "\n",
    "sweep_amenity.run_all()\n",
    "data_amenity = sweep_amenity.get_model_vars_dataframe()\n",
    "data_amenity.to_csv('Data/amenity.csv')\n",
    "\n",
    "sweep_inh_growth.run_all()\n",
    "data_inh_growth = sweep_inh_growth.get_model_vars_dataframe()\n",
    "data_amenity.to_csv('Data/inh_growth.csv')\n",
    "\n",
    "sweep_inh_amenity.run_all()\n",
    "data_inh_amenity = sweep_inh_amenity.get_model_vars_dataframe()\n",
    "data_amenity.to_csv('Data/inh_amenity.csv')"
   ]
  }
 ],
 "metadata": {
  "kernelspec": {
   "display_name": "Python 3",
   "language": "python",
   "name": "python3"
  },
  "language_info": {
   "codemirror_mode": {
    "name": "ipython",
    "version": 3
   },
   "file_extension": ".py",
   "mimetype": "text/x-python",
   "name": "python",
   "nbconvert_exporter": "python",
   "pygments_lexer": "ipython3",
   "version": "3.5.1"
  }
 },
 "nbformat": 4,
 "nbformat_minor": 0
}
