{
 "cells": [
  {
   "cell_type": "code",
   "execution_count": 9,
   "metadata": {
    "collapsed": false
   },
   "outputs": [],
   "source": [
    "from __future__ import division\n",
    "\n",
    "import numpy as np\n",
    "import pandas as pd\n",
    "from Model import SugarscapeModel\n",
    "from mesa.batchrunner import BatchRunner\n",
    "\n",
    "from time import time"
   ]
  },
  {
   "cell_type": "code",
   "execution_count": 10,
   "metadata": {
    "collapsed": false
   },
   "outputs": [],
   "source": [
    "def get_avg_pollution(model):\n",
    "    '''Data collecting method to return total wealth of a model'''\n",
    "    dc = model.datacollector\n",
    "    m_data = dc.get_model_vars_dataframe()\n",
    "    m_data = m_data.dropna()\n",
    "    return m_data.describe().Wealth.iloc[1]\n",
    "\n",
    "model_reporters = {\"Wealth\": get_avg_pollution}"
   ]
  },
  {
   "cell_type": "markdown",
   "metadata": {},
   "source": [
    "### Create all parameter sets"
   ]
  },
  {
   "cell_type": "code",
   "execution_count": 14,
   "metadata": {
    "collapsed": false
   },
   "outputs": [],
   "source": [
    "#This model has growth-affecting pollution and no inheritance\n",
    "params_growth = {\"height\": 50, \n",
    "                  \"width\": 50, \n",
    "                  \"init_agents\": 500, \n",
    "                  \"max_metabolism\": 3, \n",
    "                  \"max_vision\": 10,\n",
    "                  \"max_init_sugar\": 5, \n",
    "                  \"min_age\": 30, \n",
    "                  \"max_age\": 60, \n",
    "                  \"init_poll\": 2,\n",
    "                  \"ex_ratio\": np.linspace(1, 10, 10),\n",
    "                  \"ex_mod\": np.linspace(1, 5, 10),\n",
    "                  \"poll_growth_rule\": True,\n",
    "                  \"inheritance_rule\": False}\n",
    "\n",
    "#This model has amenity-affecting pollution and no inheritance\n",
    "params_amenity = {\"height\": 50, \n",
    "                  \"width\": 50, \n",
    "                  \"init_agents\": 500, \n",
    "                  \"max_metabolism\": 3, \n",
    "                  \"max_vision\": 10,\n",
    "                  \"max_init_sugar\": 5, \n",
    "                  \"min_age\": 30, \n",
    "                  \"max_age\": 60, \n",
    "                  \"init_poll\": 2,\n",
    "                  \"ex_ratio\": np.linspace(1, 10, 10),\n",
    "                  \"ex_mod\": np.linspace(1, 5, 10),\n",
    "                  \"poll_growth_rule\": False,\n",
    "                  \"inheritance_rule\": False}\n",
    "\n",
    "#This model has growth_affecting pollution and inheritance\n",
    "params_inh_growth = {\"height\": 50, \n",
    "                      \"width\": 50, \n",
    "                      \"init_agents\": 500, \n",
    "                      \"max_metabolism\": 3, \n",
    "                      \"max_vision\": 10,\n",
    "                      \"max_init_sugar\": 5, \n",
    "                      \"min_age\": 30, \n",
    "                      \"max_age\": 60, \n",
    "                      \"init_poll\": 2,\n",
    "                      \"ex_ratio\": np.linspace(1, 10, 10),\n",
    "                      \"ex_mod\": np.linspace(1, 5, 10),\n",
    "                      \"poll_growth_rule\": True,\n",
    "                      \"inheritance_rule\": True}\n",
    "\n",
    "#This model has amenity_affecting pollution and inheritance\n",
    "params_inh_amenity = {\"height\": 50, \n",
    "                      \"width\": 50, \n",
    "                      \"init_agents\": 500, \n",
    "                      \"max_metabolism\": 3, \n",
    "                      \"max_vision\": 10,\n",
    "                      \"max_init_sugar\": 5, \n",
    "                      \"min_age\": 30, \n",
    "                      \"max_age\": 60, \n",
    "                      \"init_poll\": 2,\n",
    "                      \"ex_ratio\": np.linspace(1, 10, 10),\n",
    "                      \"ex_mod\": np.linspace(1, 5, 10),\n",
    "                      \"poll_growth_rule\": False,\n",
    "                      \"inheritance_rule\": True}\n",
    "\n",
    "# params_test = {\"height\": 50, \n",
    "#           \"width\": 50, \n",
    "#           \"init_agents\": 500, \n",
    "#           \"max_metabolism\": 3, \n",
    "#           \"max_vision\": 10,\n",
    "#           \"max_init_sugar\": 5, \n",
    "#           \"min_age\": 30, \n",
    "#           \"max_age\": 60, \n",
    "#           \"init_poll\": np.linspace(1,10, 10),\n",
    "#           \"ex_ratio\": 2,\n",
    "#           \"poll_growth_rule\": False,\n",
    "#           \"inheritance_rule\": True}"
   ]
  },
  {
   "cell_type": "markdown",
   "metadata": {},
   "source": [
    "### Create Batch Runs With Specific Rule Sets"
   ]
  },
  {
   "cell_type": "code",
   "execution_count": 12,
   "metadata": {
    "collapsed": false
   },
   "outputs": [
    {
     "ename": "SyntaxError",
     "evalue": "keyword can't be an expression (<ipython-input-12-65ce6d1ce858>, line 9)",
     "output_type": "error",
     "traceback": [
      "\u001b[1;36m  File \u001b[1;32m\"<ipython-input-12-65ce6d1ce858>\"\u001b[1;36m, line \u001b[1;32m9\u001b[0m\n\u001b[1;33m    params_amenity,-\u001b[0m\n\u001b[1;37m                  ^\u001b[0m\n\u001b[1;31mSyntaxError\u001b[0m\u001b[1;31m:\u001b[0m keyword can't be an expression\n"
     ]
    }
   ],
   "source": [
    "sweep_growth = BatchRunner(SugarscapeModel, \n",
    "                          params_growth, \n",
    "                          iterations=3, \n",
    "                          max_steps=200, \n",
    "                          model_reporters=model_reporters)\n",
    "\n",
    "\n",
    "sweep_amenity = BatchRunner(SugarscapeModel,\n",
    "                            params_amenity,\n",
    "                            iterations=3,\n",
    "                            max_steps=200,\n",
    "                            model_reporters=model_reporters)\n",
    "\n",
    "sweep_inh_growth = BatchRunner(SugarscapeModel, \n",
    "                          params_inh_growth, \n",
    "                          iterations=3, \n",
    "                          max_steps=200, \n",
    "                          model_reporters=model_reporters)\n",
    "\n",
    "sweep_inh_amenity = BatchRunner(SugarscapeModel, \n",
    "                          params_inh_amenity, \n",
    "                          iterations=3, \n",
    "                          max_steps=200, \n",
    "                          model_reporters=model_reporters)\n",
    "\n",
    "# sweep_test = BatchRunner(SugarscapeModel, \n",
    "#                           params_test, \n",
    "#                           iterations=1, \n",
    "#                           max_steps=10, \n",
    "#                           model_reporters=model_reporters)"
   ]
  },
  {
   "cell_type": "markdown",
   "metadata": {},
   "source": [
    "### Sweep and store all data"
   ]
  },
  {
   "cell_type": "code",
   "execution_count": 13,
   "metadata": {
    "collapsed": false
   },
   "outputs": [
    {
     "ename": "KeyboardInterrupt",
     "evalue": "",
     "output_type": "error",
     "traceback": [
      "\u001b[1;31m---------------------------------------------------------------------------\u001b[0m",
      "\u001b[1;31mKeyboardInterrupt\u001b[0m                         Traceback (most recent call last)",
      "\u001b[1;32m<ipython-input-13-1ec3871b49c0>\u001b[0m in \u001b[0;36m<module>\u001b[1;34m()\u001b[0m\n\u001b[0;32m      8\u001b[0m \u001b[1;33m\u001b[0m\u001b[0m\n\u001b[0;32m      9\u001b[0m \u001b[1;33m\u001b[0m\u001b[0m\n\u001b[1;32m---> 10\u001b[1;33m \u001b[0msweep_store\u001b[0m\u001b[1;33m(\u001b[0m\u001b[0msweep_growth\u001b[0m\u001b[1;33m,\u001b[0m \u001b[1;34m'growth'\u001b[0m\u001b[1;33m)\u001b[0m\u001b[1;33m\u001b[0m\u001b[0m\n\u001b[0m\u001b[0;32m     11\u001b[0m \u001b[0msweep_store\u001b[0m\u001b[1;33m(\u001b[0m\u001b[0msweep_amenity\u001b[0m\u001b[1;33m,\u001b[0m \u001b[1;34m'amenity'\u001b[0m\u001b[1;33m)\u001b[0m\u001b[1;33m\u001b[0m\u001b[0m\n\u001b[0;32m     12\u001b[0m \u001b[0msweep_store\u001b[0m\u001b[1;33m(\u001b[0m\u001b[0msweep_inh_growth\u001b[0m\u001b[1;33m,\u001b[0m \u001b[1;34m'inh_growth'\u001b[0m\u001b[1;33m)\u001b[0m\u001b[1;33m\u001b[0m\u001b[0m\n",
      "\u001b[1;32m<ipython-input-13-1ec3871b49c0>\u001b[0m in \u001b[0;36msweep_store\u001b[1;34m(batchrunner, name)\u001b[0m\n\u001b[0;32m      1\u001b[0m \u001b[1;32mdef\u001b[0m \u001b[0msweep_store\u001b[0m\u001b[1;33m(\u001b[0m\u001b[0mbatchrunner\u001b[0m\u001b[1;33m,\u001b[0m \u001b[0mname\u001b[0m\u001b[1;33m)\u001b[0m\u001b[1;33m:\u001b[0m\u001b[1;33m\u001b[0m\u001b[0m\n\u001b[0;32m      2\u001b[0m     \u001b[0mstart\u001b[0m \u001b[1;33m=\u001b[0m \u001b[0mtime\u001b[0m\u001b[1;33m(\u001b[0m\u001b[1;33m)\u001b[0m\u001b[1;33m\u001b[0m\u001b[0m\n\u001b[1;32m----> 3\u001b[1;33m     \u001b[0mbatchrunner\u001b[0m\u001b[1;33m.\u001b[0m\u001b[0mrun_all\u001b[0m\u001b[1;33m(\u001b[0m\u001b[1;33m)\u001b[0m\u001b[1;33m\u001b[0m\u001b[0m\n\u001b[0m\u001b[0;32m      4\u001b[0m     \u001b[0mdata\u001b[0m \u001b[1;33m=\u001b[0m \u001b[0mbatchrunner\u001b[0m\u001b[1;33m.\u001b[0m\u001b[0mget_model_vars_dataframe\u001b[0m\u001b[1;33m(\u001b[0m\u001b[1;33m)\u001b[0m\u001b[1;33m\u001b[0m\u001b[0m\n\u001b[0;32m      5\u001b[0m     \u001b[0mdata\u001b[0m\u001b[1;33m.\u001b[0m\u001b[0mto_csv\u001b[0m\u001b[1;33m(\u001b[0m\u001b[1;34m'Data/ '\u001b[0m \u001b[1;33m+\u001b[0m \u001b[0mname\u001b[0m \u001b[1;33m+\u001b[0m \u001b[1;34m'.csv'\u001b[0m\u001b[1;33m)\u001b[0m\u001b[1;33m\u001b[0m\u001b[0m\n",
      "\u001b[1;32m/home/nshlapo/anaconda2/envs/py3k/lib/python3.5/site-packages/mesa/batchrunner.py\u001b[0m in \u001b[0;36mrun_all\u001b[1;34m(self)\u001b[0m\n\u001b[0;32m     77\u001b[0m             \u001b[1;32mfor\u001b[0m \u001b[0m_\u001b[0m \u001b[1;32min\u001b[0m \u001b[0mrange\u001b[0m\u001b[1;33m(\u001b[0m\u001b[0mself\u001b[0m\u001b[1;33m.\u001b[0m\u001b[0miterations\u001b[0m\u001b[1;33m)\u001b[0m\u001b[1;33m:\u001b[0m\u001b[1;33m\u001b[0m\u001b[0m\n\u001b[0;32m     78\u001b[0m                 \u001b[0mmodel\u001b[0m \u001b[1;33m=\u001b[0m \u001b[0mself\u001b[0m\u001b[1;33m.\u001b[0m\u001b[0mmodel_cls\u001b[0m\u001b[1;33m(\u001b[0m\u001b[1;33m**\u001b[0m\u001b[0mkwargs\u001b[0m\u001b[1;33m)\u001b[0m\u001b[1;33m\u001b[0m\u001b[0m\n\u001b[1;32m---> 79\u001b[1;33m                 \u001b[0mself\u001b[0m\u001b[1;33m.\u001b[0m\u001b[0mrun_model\u001b[0m\u001b[1;33m(\u001b[0m\u001b[0mmodel\u001b[0m\u001b[1;33m)\u001b[0m\u001b[1;33m\u001b[0m\u001b[0m\n\u001b[0m\u001b[0;32m     80\u001b[0m                 \u001b[1;31m# Collect and store results:\u001b[0m\u001b[1;33m\u001b[0m\u001b[1;33m\u001b[0m\u001b[0m\n\u001b[0;32m     81\u001b[0m                 \u001b[1;32mif\u001b[0m \u001b[0mself\u001b[0m\u001b[1;33m.\u001b[0m\u001b[0mmodel_reporters\u001b[0m\u001b[1;33m:\u001b[0m\u001b[1;33m\u001b[0m\u001b[0m\n",
      "\u001b[1;32m/home/nshlapo/anaconda2/envs/py3k/lib/python3.5/site-packages/mesa/batchrunner.py\u001b[0m in \u001b[0;36mrun_model\u001b[1;34m(self, model)\u001b[0m\n\u001b[0;32m     96\u001b[0m         '''\n\u001b[0;32m     97\u001b[0m         \u001b[1;32mwhile\u001b[0m \u001b[0mmodel\u001b[0m\u001b[1;33m.\u001b[0m\u001b[0mrunning\u001b[0m \u001b[1;32mand\u001b[0m \u001b[0mmodel\u001b[0m\u001b[1;33m.\u001b[0m\u001b[0mschedule\u001b[0m\u001b[1;33m.\u001b[0m\u001b[0msteps\u001b[0m \u001b[1;33m<\u001b[0m \u001b[0mself\u001b[0m\u001b[1;33m.\u001b[0m\u001b[0mmax_steps\u001b[0m\u001b[1;33m:\u001b[0m\u001b[1;33m\u001b[0m\u001b[0m\n\u001b[1;32m---> 98\u001b[1;33m             \u001b[0mmodel\u001b[0m\u001b[1;33m.\u001b[0m\u001b[0mstep\u001b[0m\u001b[1;33m(\u001b[0m\u001b[1;33m)\u001b[0m\u001b[1;33m\u001b[0m\u001b[0m\n\u001b[0m\u001b[0;32m     99\u001b[0m \u001b[1;33m\u001b[0m\u001b[0m\n\u001b[0;32m    100\u001b[0m     \u001b[1;32mdef\u001b[0m \u001b[0mcollect_model_vars\u001b[0m\u001b[1;33m(\u001b[0m\u001b[0mself\u001b[0m\u001b[1;33m,\u001b[0m \u001b[0mmodel\u001b[0m\u001b[1;33m)\u001b[0m\u001b[1;33m:\u001b[0m\u001b[1;33m\u001b[0m\u001b[0m\n",
      "\u001b[1;32m/home/nshlapo/Documents/ComplexSocialModeling/mesa-models/Sugarscape/Model.py\u001b[0m in \u001b[0;36mstep\u001b[1;34m(self)\u001b[0m\n\u001b[0;32m     51\u001b[0m     \u001b[1;32mdef\u001b[0m \u001b[0mstep\u001b[0m\u001b[1;33m(\u001b[0m\u001b[0mself\u001b[0m\u001b[1;33m)\u001b[0m\u001b[1;33m:\u001b[0m\u001b[1;33m\u001b[0m\u001b[0m\n\u001b[0;32m     52\u001b[0m         \u001b[1;34m''' Step method run by the visualization module'''\u001b[0m\u001b[1;33m\u001b[0m\u001b[0m\n\u001b[1;32m---> 53\u001b[1;33m         \u001b[0mself\u001b[0m\u001b[1;33m.\u001b[0m\u001b[0mschedule\u001b[0m\u001b[1;33m.\u001b[0m\u001b[0mstep\u001b[0m\u001b[1;33m(\u001b[0m\u001b[1;33m[\u001b[0m\u001b[0mScapeAgent\u001b[0m\u001b[1;33m,\u001b[0m \u001b[0mSugarPatch\u001b[0m\u001b[1;33m]\u001b[0m\u001b[1;33m)\u001b[0m\u001b[1;33m\u001b[0m\u001b[0m\n\u001b[0m\u001b[0;32m     54\u001b[0m         \u001b[0mself\u001b[0m\u001b[1;33m.\u001b[0m\u001b[0mdatacollector\u001b[0m\u001b[1;33m.\u001b[0m\u001b[0mcollect\u001b[0m\u001b[1;33m(\u001b[0m\u001b[0mself\u001b[0m\u001b[1;33m)\u001b[0m\u001b[1;33m\u001b[0m\u001b[0m\n\u001b[0;32m     55\u001b[0m \u001b[1;33m\u001b[0m\u001b[0m\n",
      "\u001b[1;32m/home/nshlapo/Documents/ComplexSocialModeling/mesa-models/Sugarscape/Model.py\u001b[0m in \u001b[0;36mstep\u001b[1;34m(self, by_type, type_order)\u001b[0m\n\u001b[0;32m    210\u001b[0m \u001b[1;33m\u001b[0m\u001b[0m\n\u001b[0;32m    211\u001b[0m             \u001b[1;32mfor\u001b[0m \u001b[0magent_class\u001b[0m \u001b[1;32min\u001b[0m \u001b[0morder\u001b[0m\u001b[1;33m:\u001b[0m\u001b[1;33m\u001b[0m\u001b[0m\n\u001b[1;32m--> 212\u001b[1;33m                 \u001b[0mself\u001b[0m\u001b[1;33m.\u001b[0m\u001b[0mstep_type\u001b[0m\u001b[1;33m(\u001b[0m\u001b[0magent_class\u001b[0m\u001b[1;33m)\u001b[0m\u001b[1;33m\u001b[0m\u001b[0m\n\u001b[0m\u001b[0;32m    213\u001b[0m \u001b[1;33m\u001b[0m\u001b[0m\n\u001b[0;32m    214\u001b[0m             \u001b[0mself\u001b[0m\u001b[1;33m.\u001b[0m\u001b[0msteps\u001b[0m \u001b[1;33m+=\u001b[0m \u001b[1;36m1\u001b[0m\u001b[1;33m\u001b[0m\u001b[0m\n",
      "\u001b[1;32m/home/nshlapo/Documents/ComplexSocialModeling/mesa-models/Sugarscape/Model.py\u001b[0m in \u001b[0;36mstep_type\u001b[1;34m(self, agent_type)\u001b[0m\n\u001b[0;32m    226\u001b[0m         \u001b[0mrandom\u001b[0m\u001b[1;33m.\u001b[0m\u001b[0mshuffle\u001b[0m\u001b[1;33m(\u001b[0m\u001b[0magents\u001b[0m\u001b[1;33m)\u001b[0m\u001b[1;33m\u001b[0m\u001b[0m\n\u001b[0;32m    227\u001b[0m         \u001b[1;32mfor\u001b[0m \u001b[0magent\u001b[0m \u001b[1;32min\u001b[0m \u001b[0magents\u001b[0m\u001b[1;33m:\u001b[0m\u001b[1;33m\u001b[0m\u001b[0m\n\u001b[1;32m--> 228\u001b[1;33m             \u001b[0magent\u001b[0m\u001b[1;33m.\u001b[0m\u001b[0mstep\u001b[0m\u001b[1;33m(\u001b[0m\u001b[0mself\u001b[0m\u001b[1;33m.\u001b[0m\u001b[0mmodel\u001b[0m\u001b[1;33m)\u001b[0m\u001b[1;33m\u001b[0m\u001b[0m\n\u001b[0m\u001b[0;32m    229\u001b[0m \u001b[1;33m\u001b[0m\u001b[0m\n\u001b[0;32m    230\u001b[0m     \u001b[1;32mdef\u001b[0m \u001b[0mget_type_count\u001b[0m\u001b[1;33m(\u001b[0m\u001b[0mself\u001b[0m\u001b[1;33m,\u001b[0m \u001b[0mtype_class\u001b[0m\u001b[1;33m)\u001b[0m\u001b[1;33m:\u001b[0m\u001b[1;33m\u001b[0m\u001b[0m\n",
      "\u001b[1;32m/home/nshlapo/Documents/ComplexSocialModeling/mesa-models/Sugarscape/Agents.py\u001b[0m in \u001b[0;36mstep\u001b[1;34m(self, model)\u001b[0m\n\u001b[0;32m     75\u001b[0m         '''\n\u001b[0;32m     76\u001b[0m \u001b[1;33m\u001b[0m\u001b[0m\n\u001b[1;32m---> 77\u001b[1;33m         \u001b[0mbest_patch\u001b[0m \u001b[1;33m=\u001b[0m \u001b[0mself\u001b[0m\u001b[1;33m.\u001b[0m\u001b[0mbest_location\u001b[0m\u001b[1;33m(\u001b[0m\u001b[0mmodel\u001b[0m\u001b[1;33m)\u001b[0m\u001b[1;33m\u001b[0m\u001b[0m\n\u001b[0m\u001b[0;32m     78\u001b[0m         \u001b[0mworst_patch\u001b[0m \u001b[1;33m=\u001b[0m \u001b[0mself\u001b[0m\u001b[1;33m.\u001b[0m\u001b[0mworst_location\u001b[0m\u001b[1;33m(\u001b[0m\u001b[0mmodel\u001b[0m\u001b[1;33m)\u001b[0m\u001b[1;33m\u001b[0m\u001b[0m\n\u001b[0;32m     79\u001b[0m \u001b[1;33m\u001b[0m\u001b[0m\n",
      "\u001b[1;32m/home/nshlapo/Documents/ComplexSocialModeling/mesa-models/Sugarscape/Agents.py\u001b[0m in \u001b[0;36mbest_location\u001b[1;34m(self, model)\u001b[0m\n\u001b[0;32m    125\u001b[0m \u001b[1;33m\u001b[0m\u001b[0m\n\u001b[0;32m    126\u001b[0m         \u001b[0moptions\u001b[0m \u001b[1;33m=\u001b[0m \u001b[1;33m[\u001b[0m\u001b[1;33m]\u001b[0m\u001b[1;33m\u001b[0m\u001b[0m\n\u001b[1;32m--> 127\u001b[1;33m         \u001b[1;32mfor\u001b[0m \u001b[0mcell\u001b[0m \u001b[1;32min\u001b[0m \u001b[0mmodel\u001b[0m\u001b[1;33m.\u001b[0m\u001b[0mgrid\u001b[0m\u001b[1;33m.\u001b[0m\u001b[0miter_neighbors\u001b[0m\u001b[1;33m(\u001b[0m\u001b[0mself\u001b[0m\u001b[1;33m.\u001b[0m\u001b[0mpos\u001b[0m\u001b[1;33m,\u001b[0m \u001b[0mmoore\u001b[0m\u001b[1;33m=\u001b[0m\u001b[1;32mFalse\u001b[0m\u001b[1;33m,\u001b[0m \u001b[0minclude_center\u001b[0m\u001b[1;33m=\u001b[0m\u001b[1;32mTrue\u001b[0m\u001b[1;33m,\u001b[0m \u001b[0mradius\u001b[0m\u001b[1;33m=\u001b[0m\u001b[0mself\u001b[0m\u001b[1;33m.\u001b[0m\u001b[0mvision\u001b[0m\u001b[1;33m)\u001b[0m\u001b[1;33m:\u001b[0m\u001b[1;33m\u001b[0m\u001b[0m\n\u001b[0m\u001b[0;32m    128\u001b[0m             \u001b[0mfree\u001b[0m \u001b[1;33m=\u001b[0m \u001b[1;32mTrue\u001b[0m\u001b[1;33m\u001b[0m\u001b[0m\n\u001b[0;32m    129\u001b[0m             \u001b[0mpatch\u001b[0m \u001b[1;33m=\u001b[0m \u001b[1;32mNone\u001b[0m\u001b[1;33m\u001b[0m\u001b[0m\n",
      "\u001b[1;32m/home/nshlapo/anaconda2/envs/py3k/lib/python3.5/site-packages/mesa/space.py\u001b[0m in \u001b[0;36m<genexpr>\u001b[1;34m(.0)\u001b[0m\n\u001b[0;32m    445\u001b[0m         '''\n\u001b[0;32m    446\u001b[0m         return itertools.chain.from_iterable(\n\u001b[1;32m--> 447\u001b[1;33m             self[y][x] for x, y in cell_list if not self.is_cell_empty((x, y)))\n\u001b[0m\u001b[0;32m    448\u001b[0m \u001b[1;33m\u001b[0m\u001b[0m\n\u001b[0;32m    449\u001b[0m \u001b[1;33m\u001b[0m\u001b[0m\n",
      "\u001b[1;32m/home/nshlapo/anaconda2/envs/py3k/lib/python3.5/site-packages/mesa/space.py\u001b[0m in \u001b[0;36miter_neighborhood\u001b[1;34m(self, pos, moore, include_center, radius)\u001b[0m\n\u001b[0;32m    143\u001b[0m                     \u001b[1;32mcontinue\u001b[0m\u001b[1;33m\u001b[0m\u001b[0m\n\u001b[0;32m    144\u001b[0m                 \u001b[1;31m# Skip diagonals in Von Neumann neighborhood.\u001b[0m\u001b[1;33m\u001b[0m\u001b[1;33m\u001b[0m\u001b[0m\n\u001b[1;32m--> 145\u001b[1;33m                 \u001b[1;32mif\u001b[0m \u001b[1;32mnot\u001b[0m \u001b[0mmoore\u001b[0m \u001b[1;32mand\u001b[0m \u001b[0mdy\u001b[0m \u001b[1;33m!=\u001b[0m \u001b[1;36m0\u001b[0m \u001b[1;32mand\u001b[0m \u001b[0mdx\u001b[0m \u001b[1;33m!=\u001b[0m \u001b[1;36m0\u001b[0m\u001b[1;33m:\u001b[0m\u001b[1;33m\u001b[0m\u001b[0m\n\u001b[0m\u001b[0;32m    146\u001b[0m                     \u001b[1;32mcontinue\u001b[0m\u001b[1;33m\u001b[0m\u001b[0m\n\u001b[0;32m    147\u001b[0m                 \u001b[1;31m# Skip diagonals in Moore neighborhood when distance > radius\u001b[0m\u001b[1;33m\u001b[0m\u001b[1;33m\u001b[0m\u001b[0m\n",
      "\u001b[1;31mKeyboardInterrupt\u001b[0m: "
     ]
    }
   ],
   "source": [
    "def sweep_store(batchrunner, name):\n",
    "    start = time()\n",
    "    batchrunner.run_all()\n",
    "    data = batchrunner.get_model_vars_dataframe()\n",
    "    data.to_csv('Data/ ' + name + '.csv')\n",
    "    end = time()\n",
    "    print('Finished sweep: ' + name + str(end-start))\n",
    "    \n",
    "    \n",
    "sweep_store(sweep_growth, 'growth')\n",
    "sweep_store(sweep_amenity, 'amenity')\n",
    "sweep_store(sweep_inh_growth, 'inh_growth')\n",
    "sweep_store(sweep_inh_amenity, 'inh_amenity')\n",
    "# sweep_store(sweep_test, 'test')"
   ]
  },
  {
   "cell_type": "code",
   "execution_count": null,
   "metadata": {
    "collapsed": true
   },
   "outputs": [],
   "source": []
  }
 ],
 "metadata": {
  "kernelspec": {
   "display_name": "Python 3",
   "language": "python",
   "name": "python3"
  },
  "language_info": {
   "codemirror_mode": {
    "name": "ipython",
    "version": 3
   },
   "file_extension": ".py",
   "mimetype": "text/x-python",
   "name": "python",
   "nbconvert_exporter": "python",
   "pygments_lexer": "ipython3",
   "version": "3.5.1"
  }
 },
 "nbformat": 4,
 "nbformat_minor": 0
}
