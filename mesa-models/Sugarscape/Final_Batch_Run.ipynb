{
 "cells": [
  {
   "cell_type": "code",
   "execution_count": 7,
   "metadata": {
    "collapsed": false
   },
   "outputs": [],
   "source": [
    "from __future__ import division\n",
    "\n",
    "import numpy as np\n",
    "import pandas as pd\n",
    "from Model import SugarscapeModel\n",
    "from mesa.batchrunner import BatchRunner\n",
    "\n",
    "from time import time"
   ]
  },
  {
   "cell_type": "code",
   "execution_count": 8,
   "metadata": {
    "collapsed": false
   },
   "outputs": [],
   "source": [
    "def get_avg_pollution(model):\n",
    "    '''Data collecting method to return total wealth of a model'''\n",
    "    dc = model.datacollector\n",
    "    m_data = dc.get_model_vars_dataframe()\n",
    "    m_data = m_data.dropna()\n",
    "    return m_data.describe().Wealth.iloc[1]\n",
    "\n",
    "model_reporters = {\"Wealth\": get_avg_pollution}"
   ]
  },
  {
   "cell_type": "markdown",
   "metadata": {},
   "source": [
    "### Create all parameter sets"
   ]
  },
  {
   "cell_type": "code",
   "execution_count": 3,
   "metadata": {
    "collapsed": false
   },
   "outputs": [],
   "source": [
    "#This model has growth-affecting pollution and no inheritance\n",
    "params_growth = {\"height\": 50, \n",
    "          \"width\": 50, \n",
    "          \"init_agents\": range(100,600,100), \n",
    "          \"max_metabolism\": 3, \n",
    "          \"max_vision\": 10,\n",
    "          \"max_init_sugar\": 5, \n",
    "          \"min_age\": 30, \n",
    "          \"max_age\": 60, \n",
    "          \"init_poll\": np.linspace(1,10, 10),\n",
    "          \"ex_ratio\": np.linspace(1,100, 20),\n",
    "          \"poll_growth_rule\": True,\n",
    "          \"inheritance_rule\": False}\n",
    "\n",
    "#This model has amenity-affecting pollution and no inheritance\n",
    "params_amenity = {\"height\": 50, \n",
    "          \"width\": 50, \n",
    "          \"init_agents\": range(100,600,100),\n",
    "          \"max_metabolism\": 3, \n",
    "          \"max_vision\": 10,\n",
    "          \"max_init_sugar\": 5, \n",
    "          \"min_age\": 30, \n",
    "          \"max_age\": 60, \n",
    "          \"ex_ratio\": np.linspace(1,100, 20),\n",
    "          \"poll_growth_rule\": False,\n",
    "          \"inheritance_rule\": False}\n",
    "\n",
    "#This model has growth_affecting pollution and inheritance\n",
    "params_inh_growth = {\"height\": 50, \n",
    "          \"width\": 50, \n",
    "          \"init_agents\": range(100,600,100), \n",
    "          \"max_metabolism\": 3, \n",
    "          \"max_vision\": 10,\n",
    "          \"max_init_sugar\": 5, \n",
    "          \"min_age\": 30, \n",
    "          \"max_age\": 60, \n",
    "          \"init_poll\": np.linspace(1,10, 10),\n",
    "          \"ex_ratio\": np.linspace(1,100, 20),\n",
    "          \"poll_growth_rule\": True,\n",
    "          \"inheritance_rule\": True}\n",
    "\n",
    "#This model has amenity_affecting pollution and inheritance\n",
    "params_inh_amenity = {\"height\": 50, \n",
    "          \"width\": 50, \n",
    "          \"init_agents\": range(100,600,100), \n",
    "          \"max_metabolism\": 3, \n",
    "          \"max_vision\": 10,\n",
    "          \"max_init_sugar\": 5, \n",
    "          \"min_age\": 30, \n",
    "          \"max_age\": 60, \n",
    "          \"init_poll\": np.linspace(1,10, 10),\n",
    "          \"ex_ratio\": np.linspace(1,100, 20),\n",
    "          \"poll_growth_rule\": False,\n",
    "          \"inheritance_rule\": True}\n",
    "\n",
    "params_test = {\"height\": 50, \n",
    "#           \"width\": 50, \n",
    "#           \"init_agents\": 500, \n",
    "#           \"max_metabolism\": 3, \n",
    "#           \"max_vision\": 10,\n",
    "#           \"max_init_sugar\": 5, \n",
    "#           \"min_age\": 30, \n",
    "#           \"max_age\": 60, \n",
    "#           \"init_poll\": np.linspace(1,10, 10),\n",
    "#           \"ex_ratio\": 2,\n",
    "#           \"poll_growth_rule\": False,\n",
    "#           \"inheritance_rule\": True}"
   ]
  },
  {
   "cell_type": "markdown",
   "metadata": {},
   "source": [
    "### Create Batch Runs With Specific Rule Sets"
   ]
  },
  {
   "cell_type": "code",
   "execution_count": 4,
   "metadata": {
    "collapsed": false
   },
   "outputs": [],
   "source": [
    "sweep_growth = BatchRunner(SugarscapeModel, \n",
    "                          params_growth, \n",
    "                          iterations=3, \n",
    "                          max_steps=200, \n",
    "                          model_reporters=model_reporters)\n",
    "\n",
    "\n",
    "sweep_amenity = BatchRunner(SugarscapeModel,\n",
    "                            params_amenity,\n",
    "                            iterations=3,\n",
    "                            max_steps=200,\n",
    "                            model_reporters=model_reporters)\n",
    "\n",
    "sweep_inh_growth = BatchRunner(SugarscapeModel, \n",
    "                          params_inh_growth, \n",
    "                          iterations=3, \n",
    "                          max_steps=200, \n",
    "                          model_reporters=model_reporters)\n",
    "\n",
    "sweep_inh_amenity = BatchRunner(SugarscapeModel, \n",
    "                          params_inh_amenity, \n",
    "                          iterations=3, \n",
    "                          max_steps=200, \n",
    "                          model_reporters=model_reporters)\n",
    "\n",
    "# sweep_test = BatchRunner(SugarscapeModel, \n",
    "#                           params_test, \n",
    "#                           iterations=1, \n",
    "#                           max_steps=10, \n",
    "#                           model_reporters=model_reporters)"
   ]
  },
  {
   "cell_type": "markdown",
   "metadata": {},
   "source": [
    "### Sweep and store all data"
   ]
  },
  {
   "cell_type": "code",
   "execution_count": 5,
   "metadata": {
    "collapsed": false
   },
   "outputs": [
    {
     "name": "stdout",
     "output_type": "stream",
     "text": [
      "Finished sweep: test19.8089816570282\n"
     ]
    }
   ],
   "source": [
    "def sweep_store(batchrunner, name):\n",
    "    start = time()\n",
    "    batchrunner.run_all()\n",
    "    data = batchrunner.get_model_vars_dataframe()\n",
    "    data.to_csv('Data/ ' + name + '.csv')\n",
    "    end = time()\n",
    "    print('Finished sweep: ' + name + str(end-start))\n",
    "    \n",
    "    \n",
    "sweep_store(sweep_growth, 'growth')\n",
    "sweep_store(sweep_amenity, 'amenity')\n",
    "sweep_store(sweep_inh_growth, 'inh_growth')\n",
    "sweep_store(sweep_inh_amenity, 'inh_amenity')\n",
    "# sweep_store(sweep_test, 'test')"
   ]
  },
  {
   "cell_type": "code",
   "execution_count": null,
   "metadata": {
    "collapsed": true
   },
   "outputs": [],
   "source": []
  }
 ],
 "metadata": {
  "kernelspec": {
   "display_name": "Python 3",
   "language": "python",
   "name": "python3"
  },
  "language_info": {
   "codemirror_mode": {
    "name": "ipython",
    "version": 3
   },
   "file_extension": ".py",
   "mimetype": "text/x-python",
   "name": "python",
   "nbconvert_exporter": "python",
   "pygments_lexer": "ipython3",
   "version": "3.5.1"
  }
 },
 "nbformat": 4,
 "nbformat_minor": 0
}
