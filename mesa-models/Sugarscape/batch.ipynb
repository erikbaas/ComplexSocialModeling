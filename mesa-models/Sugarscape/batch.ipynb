{
 "cells": [
  {
   "cell_type": "code",
   "execution_count": 16,
   "metadata": {
    "collapsed": false
   },
   "outputs": [
    {
     "data": {
      "text/plain": [
       "array([  1.        ,   6.44444444,  11.88888889,  17.33333333,\n",
       "        22.77777778,  28.22222222,  33.66666667,  39.11111111,\n",
       "        44.55555556,  50.        ])"
      ]
     },
     "execution_count": 16,
     "metadata": {},
     "output_type": "execute_result"
    }
   ],
   "source": [
    "%matplotlib inline\n",
    "from __future__ import division\n",
    "\n",
    "import numpy as np\n",
    "import pandas as pd\n",
    "import matplotlib.pyplot as plt\n",
    "from Model import SugarscapeModel\n",
    "from mesa.batchrunner import BatchRunner\n",
    "\n",
    "np.linspace(1,50, 10)"
   ]
  },
  {
   "cell_type": "code",
   "execution_count": 20,
   "metadata": {
    "collapsed": false
   },
   "outputs": [],
   "source": [
    "sugarscape = SugarscapeModel()\n",
    "#Some params should each be a range(a,b)\n",
    "params = {\"height\": 50, \n",
    "          \"width\": 50, \n",
    "          \"init_agents\": 500, \n",
    "          \"max_metabolism\": 3, \n",
    "          \"max_vision\": 10,\n",
    "          \"max_init_sugar\": 5, \n",
    "          \"min_age\": 30, \n",
    "          \"max_age\": 60, \n",
    "          \"init_poll\": 2,\n",
    "          \"ex_ratio\": np.linspace(1,100, 20)}\n",
    "\n",
    "def get_avg_pollution(model):\n",
    "    dc = model.datacollector\n",
    "    m_data = dc.get_model_vars_dataframe()\n",
    "    m_data = m_data.dropna()\n",
    "    return m_data.describe().Wealth.iloc[1]\n",
    "\n",
    "model_reporters = {\"Wealth\": get_avg_pollution}"
   ]
  },
  {
   "cell_type": "code",
   "execution_count": 21,
   "metadata": {
    "collapsed": false
   },
   "outputs": [],
   "source": [
    "param_sweep = BatchRunner(SugarscapeModel, \n",
    "                          params, \n",
    "                          iterations=1, \n",
    "                          max_steps=200, \n",
    "                          model_reporters=model_reporters)"
   ]
  },
  {
   "cell_type": "code",
   "execution_count": 22,
   "metadata": {
    "collapsed": false
   },
   "outputs": [],
   "source": [
    "param_sweep.run_all()"
   ]
  },
  {
   "cell_type": "code",
   "execution_count": 23,
   "metadata": {
    "collapsed": false
   },
   "outputs": [
    {
     "data": {
      "text/plain": [
       "<matplotlib.collections.PathCollection at 0x7f2fb94ce5f8>"
      ]
     },
     "execution_count": 23,
     "metadata": {},
     "output_type": "execute_result"
    },
    {
     "data": {
      "image/png": "[encoded data removed]",
      "text/plain": [
       "<matplotlib.figure.Figure at 0x7f2fbbad0828>"
      ]
     },
     "metadata": {},
     "output_type": "display_data"
    }
   ],
   "source": [
    "data = param_sweep.get_model_vars_dataframe()\n",
    "plt.scatter(data.ex_ratio, data.Wealth)"
   ]
  },
  {
   "cell_type": "code",
   "execution_count": 24,
   "metadata": {
    "collapsed": false
   },
   "outputs": [
    {
     "data": {
      "text/plain": [
       "<matplotlib.figure.Figure at 0x7f2fbcdd88d0>"
      ]
     },
     "metadata": {},
     "output_type": "display_data"
    }
   ],
   "source": [
    "plt.savefig('largeel_high_met_sweep.png')\n",
    "# data.to_csv('param_sweep_double.csv')\n",
    "# data = pd.read_csv('param_sweep_double.csv', index)"
   ]
  },
  {
   "cell_type": "code",
   "execution_count": 5,
   "metadata": {
    "collapsed": false
   },
   "outputs": [
    {
     "data": {
      "text/html": [
       "<div>\n",
       "<table border=\"1\" class=\"dataframe\">\n",
       "  <thead>\n",
       "    <tr style=\"text-align: right;\">\n",
       "      <th></th>\n",
       "      <th>Unnamed: 0</th>\n",
       "      <th>Run</th>\n",
       "      <th>Wealth</th>\n",
       "      <th>ex_ratio</th>\n",
       "      <th>height</th>\n",
       "      <th>init_agents</th>\n",
       "      <th>init_poll</th>\n",
       "      <th>max_age</th>\n",
       "      <th>max_init_sugar</th>\n",
       "      <th>max_metabolism</th>\n",
       "      <th>max_vision</th>\n",
       "      <th>min_age</th>\n",
       "      <th>width</th>\n",
       "    </tr>\n",
       "  </thead>\n",
       "  <tbody>\n",
       "    <tr>\n",
       "      <th>0</th>\n",
       "      <td>0</td>\n",
       "      <td>845</td>\n",
       "      <td>5345.367748</td>\n",
       "      <td>5</td>\n",
       "      <td>50</td>\n",
       "      <td>500</td>\n",
       "      <td>9</td>\n",
       "      <td>60</td>\n",
       "      <td>5</td>\n",
       "      <td>3</td>\n",
       "      <td>10</td>\n",
       "      <td>30</td>\n",
       "      <td>50</td>\n",
       "    </tr>\n",
       "    <tr>\n",
       "      <th>1</th>\n",
       "      <td>1</td>\n",
       "      <td>877</td>\n",
       "      <td>5311.946497</td>\n",
       "      <td>8</td>\n",
       "      <td>50</td>\n",
       "      <td>500</td>\n",
       "      <td>9</td>\n",
       "      <td>60</td>\n",
       "      <td>5</td>\n",
       "      <td>3</td>\n",
       "      <td>10</td>\n",
       "      <td>30</td>\n",
       "      <td>50</td>\n",
       "    </tr>\n",
       "    <tr>\n",
       "      <th>2</th>\n",
       "      <td>2</td>\n",
       "      <td>422</td>\n",
       "      <td>5215.705758</td>\n",
       "      <td>3</td>\n",
       "      <td>50</td>\n",
       "      <td>500</td>\n",
       "      <td>5</td>\n",
       "      <td>60</td>\n",
       "      <td>5</td>\n",
       "      <td>3</td>\n",
       "      <td>10</td>\n",
       "      <td>30</td>\n",
       "      <td>50</td>\n",
       "    </tr>\n",
       "    <tr>\n",
       "      <th>3</th>\n",
       "      <td>3</td>\n",
       "      <td>271</td>\n",
       "      <td>5298.959470</td>\n",
       "      <td>8</td>\n",
       "      <td>50</td>\n",
       "      <td>500</td>\n",
       "      <td>3</td>\n",
       "      <td>60</td>\n",
       "      <td>5</td>\n",
       "      <td>3</td>\n",
       "      <td>10</td>\n",
       "      <td>30</td>\n",
       "      <td>50</td>\n",
       "    </tr>\n",
       "    <tr>\n",
       "      <th>4</th>\n",
       "      <td>4</td>\n",
       "      <td>506</td>\n",
       "      <td>5455.354732</td>\n",
       "      <td>1</td>\n",
       "      <td>50</td>\n",
       "      <td>500</td>\n",
       "      <td>6</td>\n",
       "      <td>60</td>\n",
       "      <td>5</td>\n",
       "      <td>3</td>\n",
       "      <td>10</td>\n",
       "      <td>30</td>\n",
       "      <td>50</td>\n",
       "    </tr>\n",
       "  </tbody>\n",
       "</table>\n",
       "</div>"
      ],
      "text/plain": [
       "   Unnamed: 0  Run       Wealth  ex_ratio  height  init_agents  init_poll  \\\n",
       "0           0  845  5345.367748         5      50          500          9   \n",
       "1           1  877  5311.946497         8      50          500          9   \n",
       "2           2  422  5215.705758         3      50          500          5   \n",
       "3           3  271  5298.959470         8      50          500          3   \n",
       "4           4  506  5455.354732         1      50          500          6   \n",
       "\n",
       "   max_age  max_init_sugar  max_metabolism  max_vision  min_age  width  \n",
       "0       60               5               3          10       30     50  \n",
       "1       60               5               3          10       30     50  \n",
       "2       60               5               3          10       30     50  \n",
       "3       60               5               3          10       30     50  \n",
       "4       60               5               3          10       30     50  "
      ]
     },
     "execution_count": 5,
     "metadata": {},
     "output_type": "execute_result"
    }
   ],
   "source": [
    "data.head()"
   ]
  },
  {
   "cell_type": "code",
   "execution_count": 33,
   "metadata": {
    "collapsed": false
   },
   "outputs": [
    {
     "data": {
      "text/plain": [
       "<matplotlib.collections.PathCollection at 0x7f58f0e10f60>"
      ]
     },
     "execution_count": 33,
     "metadata": {},
     "output_type": "execute_result"
    },
    {
     "data": {
      "image/png": "[encoded data removed]",
      "text/plain": [
       "<matplotlib.figure.Figure at 0x7f58e7ee9668>"
      ]
     },
     "metadata": {},
     "output_type": "display_data"
    }
   ],
   "source": [
    "one = data[data.init_poll==1]\n",
    "ten = data[data.init_poll==10]\n",
    "plt.scatter(one.ex_ratio, one.Wealth)\n",
    "plt.scatter(ten.ex_ratio, one.Wealth, c='red')"
   ]
  },
  {
   "cell_type": "code",
   "execution_count": null,
   "metadata": {
    "collapsed": true
   },
   "outputs": [],
   "source": []
  },
  {
   "cell_type": "code",
   "execution_count": null,
   "metadata": {
    "collapsed": true
   },
   "outputs": [],
   "source": []
  }
 ],
 "metadata": {
  "kernelspec": {
   "display_name": "Python 3",
   "language": "python",
   "name": "python3"
  },
  "language_info": {
   "codemirror_mode": {
    "name": "ipython",
    "version": 3
   },
   "file_extension": ".py",
   "mimetype": "text/x-python",
   "name": "python",
   "nbconvert_exporter": "python",
   "pygments_lexer": "ipython3",
   "version": "3.5.1"
  }
 },
 "nbformat": 4,
 "nbformat_minor": 0
}
